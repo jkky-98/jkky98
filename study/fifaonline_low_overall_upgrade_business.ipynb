{
 "cells": [
  {
   "cell_type": "code",
   "execution_count": 167,
   "id": "f1e438a8",
   "metadata": {
    "ExecuteTime": {
     "end_time": "2022-10-08T09:52:41.574307Z",
     "start_time": "2022-10-08T09:52:41.562893Z"
    }
   },
   "outputs": [],
   "source": [
    "#피파 저버롤 강화장사의 확률적 효율을 따지기 위한 간단한 코딩\n",
    "\n",
    "import numpy as np\n",
    "import statistics as sts\n",
    "# np.random.rand(1)[0]\n",
    "\n",
    "class upgrade_f:\n",
    "    def __init__(self, ingre=0, target=5):\n",
    "        self.level = 1\n",
    "        self.ingre = ingre\n",
    "        self.target = target\n",
    "        self.p_list = [0, 1, 0.81, 0.64, 0.5, 0.25, 0.15, 0.07]\n",
    "        self.count = 0\n",
    "        self.data = [0,0,0,0,0,0,0,0,0,0]\n",
    "\n",
    "    def run(self, repeat):\n",
    "        repeat_list = []\n",
    "        for i in range(repeat):\n",
    "            self.level = 0\n",
    "            self.count = 0\n",
    "            while self.level < self.target: # 강화레벨이 타겟과 같아지지 않는동안은 계속 반복\n",
    "                s = np.random.rand(1)[0]\n",
    "                if s < self.p_list[self.level]:\n",
    "                    self.level += 1\n",
    "                    self.count += 1\n",
    "                else:\n",
    "                    self.level = 1\n",
    "                    self.count += 1\n",
    "            repeat_list.append(self.count)\n",
    "        avg = sum(repeat_list) / len(repeat_list)\n",
    "        self.data[self.target-1] = avg\n",
    "    \n",
    "    def change_target(self, n):\n",
    "        self.target = n\n",
    "    "
   ]
  },
  {
   "cell_type": "code",
   "execution_count": 187,
   "id": "cf71df5b",
   "metadata": {
    "ExecuteTime": {
     "end_time": "2022-10-08T09:55:50.277558Z",
     "start_time": "2022-10-08T09:55:46.077394Z"
    }
   },
   "outputs": [],
   "source": [
    "a = upgrade_f(1300, 3)\n",
    "\n",
    "for i in range(3,9):\n",
    "    a.change_target(i)\n",
    "    a.run(1000) #시행횟수\n"
   ]
  },
  {
   "cell_type": "code",
   "execution_count": 193,
   "id": "aff20fd3",
   "metadata": {
    "ExecuteTime": {
     "end_time": "2022-10-08T09:57:17.922764Z",
     "start_time": "2022-10-08T09:57:17.918519Z"
    }
   },
   "outputs": [
    {
     "name": "stdout",
     "output_type": "stream",
     "text": [
      "1강부터 3강까지 필요한 강화횟수는 다음과 같습니다 : 4회\n",
      "1강부터 4강까지 필요한 강화횟수는 다음과 같습니다 : 6회\n",
      "1강부터 5강까지 필요한 강화횟수는 다음과 같습니다 : 14회\n",
      "1강부터 6강까지 필요한 강화횟수는 다음과 같습니다 : 59회\n",
      "1강부터 7강까지 필요한 강화횟수는 다음과 같습니다 : 368회\n",
      "1강부터 8강까지 필요한 강화횟수는 다음과 같습니다 : 5672회\n"
     ]
    }
   ],
   "source": [
    "fuplist = a.data\n",
    "for i in range(2,8):\n",
    "    print(\"1강부터 {}강까지 필요한 강화횟수는 다음과 같습니다 : {}회\".format(i+1, round(fuplist[i])))"
   ]
  },
  {
   "cell_type": "code",
   "execution_count": 195,
   "id": "bb8a307f",
   "metadata": {
    "ExecuteTime": {
     "end_time": "2022-10-08T09:59:22.586224Z",
     "start_time": "2022-10-08T09:59:22.581700Z"
    }
   },
   "outputs": [
    {
     "name": "stdout",
     "output_type": "stream",
     "text": [
      "강화 1회당 가격이 1300만bp일 경우 강화가격은 아래와 같다\n",
      "1강부터 3강까지 필요한 강화가격은 다음과 같습니다 : 5200만bp\n",
      "1강부터 4강까지 필요한 강화가격은 다음과 같습니다 : 7800만bp\n",
      "1강부터 5강까지 필요한 강화가격은 다음과 같습니다 : 18200만bp\n",
      "1강부터 6강까지 필요한 강화가격은 다음과 같습니다 : 76700만bp\n",
      "1강부터 7강까지 필요한 강화가격은 다음과 같습니다 : 478400만bp\n",
      "1강부터 8강까지 필요한 강화가격은 다음과 같습니다 : 7373600만bp\n"
     ]
    }
   ],
   "source": [
    "fuplist = a.data\n",
    "price = a.ingre\n",
    "print(\"강화 1회당 가격이 {}만bp일 경우 강화가격은 아래와 같다\".format(price))\n",
    "for i in range(2,8):\n",
    "    print(\"1강부터 {}강까지 필요한 강화가격은 다음과 같습니다 : {}만bp\".format(i+1, round(fuplist[i])*price))"
   ]
  }
 ],
 "metadata": {
  "kernelspec": {
   "display_name": "Python 3 (ipykernel)",
   "language": "python",
   "name": "python3"
  },
  "language_info": {
   "codemirror_mode": {
    "name": "ipython",
    "version": 3
   },
   "file_extension": ".py",
   "mimetype": "text/x-python",
   "name": "python",
   "nbconvert_exporter": "python",
   "pygments_lexer": "ipython3",
   "version": "3.8.12"
  }
 },
 "nbformat": 4,
 "nbformat_minor": 5
}
