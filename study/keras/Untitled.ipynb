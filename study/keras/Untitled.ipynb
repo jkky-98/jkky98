{
 "cells": [
  {
   "cell_type": "code",
   "execution_count": 1,
   "id": "ae88a174",
   "metadata": {
    "ExecuteTime": {
     "end_time": "2022-11-29T05:20:54.540366Z",
     "start_time": "2022-11-29T05:20:51.926862Z"
    }
   },
   "outputs": [
    {
     "name": "stdout",
     "output_type": "stream",
     "text": [
      "Metal device set to: Apple M1\n"
     ]
    },
    {
     "name": "stderr",
     "output_type": "stream",
     "text": [
      "2022-11-29 14:20:54.512863: I tensorflow/core/common_runtime/pluggable_device/pluggable_device_factory.cc:305] Could not identify NUMA node of platform GPU ID 0, defaulting to 0. Your kernel may not have been built with NUMA support.\n",
      "2022-11-29 14:20:54.513242: I tensorflow/core/common_runtime/pluggable_device/pluggable_device_factory.cc:271] Created TensorFlow device (/job:localhost/replica:0/task:0/device:GPU:0 with 0 MB memory) -> physical PluggableDevice (device: 0, name: METAL, pci bus id: <undefined>)\n"
     ]
    },
    {
     "data": {
      "text/plain": [
       "<tf.Tensor: shape=(2, 1), dtype=float32, numpy=\n",
       "array([[1.],\n",
       "       [1.]], dtype=float32)>"
      ]
     },
     "execution_count": 1,
     "metadata": {},
     "output_type": "execute_result"
    }
   ],
   "source": [
    "import tensorflow as tf\n",
    "\n",
    "x = tf.ones(shape=(2, 1))\n",
    "x"
   ]
  },
  {
   "cell_type": "code",
   "execution_count": 2,
   "id": "8487be66",
   "metadata": {
    "ExecuteTime": {
     "end_time": "2022-11-29T05:20:56.471960Z",
     "start_time": "2022-11-29T05:20:56.447882Z"
    }
   },
   "outputs": [
    {
     "data": {
      "text/plain": [
       "<tf.Tensor: shape=(3, 1), dtype=float32, numpy=\n",
       "array([[ 0.55578494],\n",
       "       [ 0.5489352 ],\n",
       "       [-0.44868067]], dtype=float32)>"
      ]
     },
     "execution_count": 2,
     "metadata": {},
     "output_type": "execute_result"
    }
   ],
   "source": [
    "#랜덤 텐서\n",
    "# 평균이 0이고 표준편차가 1인 정규분포에서 뽑은 랜덤한 값으로 만든 텐서\n",
    "x = tf.random.normal(shape=(3, 1), mean=0., stddev=1.)\n",
    "x"
   ]
  },
  {
   "cell_type": "code",
   "execution_count": 3,
   "id": "c26eaca6",
   "metadata": {
    "ExecuteTime": {
     "end_time": "2022-11-29T05:20:57.411629Z",
     "start_time": "2022-11-29T05:20:57.391596Z"
    }
   },
   "outputs": [
    {
     "data": {
      "text/plain": [
       "<tf.Tensor: shape=(3, 1), dtype=float32, numpy=\n",
       "array([[0.4411304],\n",
       "       [0.8234185],\n",
       "       [0.453583 ]], dtype=float32)>"
      ]
     },
     "execution_count": 3,
     "metadata": {},
     "output_type": "execute_result"
    }
   ],
   "source": [
    "#랜덤 텐서\n",
    "#0과 1사이의 균등 분포에서 뽑은 랜덤한 값으로 만든 텐서\n",
    "x = tf.random.uniform(shape=(3, 1), minval=0., maxval=1.)\n",
    "x"
   ]
  },
  {
   "cell_type": "code",
   "execution_count": 4,
   "id": "5d64203e",
   "metadata": {
    "ExecuteTime": {
     "end_time": "2022-11-29T05:20:58.360423Z",
     "start_time": "2022-11-29T05:20:58.347830Z"
    }
   },
   "outputs": [
    {
     "data": {
      "text/plain": [
       "<tf.Variable 'Variable:0' shape=(3, 1) dtype=float32, numpy=\n",
       "array([[ 0.6029253 ],\n",
       "       [-0.6892477 ],\n",
       "       [-0.06389383]], dtype=float32)>"
      ]
     },
     "execution_count": 4,
     "metadata": {},
     "output_type": "execute_result"
    }
   ],
   "source": [
    "# 넘파이와 달리 텐서플로우는 배열에 값을 수정할 수 없다. 즉 텐서를 업데이트할 수 없다.\n",
    "v = tf.Variable(initial_value=tf.random.normal(shape=(3, 1)))\n",
    "v\n",
    "# 다음과 같이 variable메소드에 넣어놓으면 수정 가능하다. 수정은 assign 메서드로 한다."
   ]
  },
  {
   "cell_type": "code",
   "execution_count": 5,
   "id": "54b6ce37",
   "metadata": {
    "ExecuteTime": {
     "end_time": "2022-11-29T05:20:59.144055Z",
     "start_time": "2022-11-29T05:20:59.131960Z"
    }
   },
   "outputs": [
    {
     "data": {
      "text/plain": [
       "<tf.Variable 'UnreadVariable' shape=(3, 1) dtype=float32, numpy=\n",
       "array([[1.],\n",
       "       [1.],\n",
       "       [1.]], dtype=float32)>"
      ]
     },
     "execution_count": 5,
     "metadata": {},
     "output_type": "execute_result"
    }
   ],
   "source": [
    "v.assign(tf.ones((3, 1))) # 텐서 전체 바꾸기\n"
   ]
  },
  {
   "cell_type": "code",
   "execution_count": 6,
   "id": "06b07506",
   "metadata": {
    "ExecuteTime": {
     "end_time": "2022-11-29T05:21:01.821376Z",
     "start_time": "2022-11-29T05:21:00.013530Z"
    }
   },
   "outputs": [
    {
     "ename": "NotFoundError",
     "evalue": "No registered 'ResourceStridedSliceAssign' OpKernel for 'GPU' devices compatible with node {{node ResourceStridedSliceAssign}}\n\t (OpKernel was found, but attributes didn't match) Requested Attributes: Index=DT_INT32, T=DT_FLOAT, begin_mask=0, ellipsis_mask=0, end_mask=0, new_axis_mask=0, shrink_axis_mask=3\n\t.  Registered:  device='DEFAULT'; T in [DT_INT32]\n  device='CPU'; T in [DT_UINT64]\n  device='CPU'; T in [DT_INT64]\n  device='CPU'; T in [DT_UINT32]\n  device='CPU'; T in [DT_UINT16]\n  device='CPU'; T in [DT_INT16]\n  device='CPU'; T in [DT_UINT8]\n  device='CPU'; T in [DT_INT8]\n  device='CPU'; T in [DT_INT32]\n  device='CPU'; T in [DT_HALF]\n  device='CPU'; T in [DT_BFLOAT16]\n  device='CPU'; T in [DT_FLOAT]\n  device='CPU'; T in [DT_DOUBLE]\n  device='CPU'; T in [DT_COMPLEX64]\n  device='CPU'; T in [DT_COMPLEX128]\n  device='CPU'; T in [DT_BOOL]\n  device='CPU'; T in [DT_STRING]\n  device='CPU'; T in [DT_RESOURCE]\n  device='CPU'; T in [DT_VARIANT]\n [Op:ResourceStridedSliceAssign] name: strided_slice/_assign",
     "output_type": "error",
     "traceback": [
      "\u001b[0;31m---------------------------------------------------------------------------\u001b[0m",
      "\u001b[0;31mNotFoundError\u001b[0m                             Traceback (most recent call last)",
      "Input \u001b[0;32mIn [6]\u001b[0m, in \u001b[0;36m<cell line: 1>\u001b[0;34m()\u001b[0m\n\u001b[0;32m----> 1\u001b[0m \u001b[43mv\u001b[49m\u001b[43m[\u001b[49m\u001b[38;5;241;43m0\u001b[39;49m\u001b[43m,\u001b[49m\u001b[43m \u001b[49m\u001b[38;5;241;43m0\u001b[39;49m\u001b[43m]\u001b[49m\u001b[38;5;241;43m.\u001b[39;49m\u001b[43massign\u001b[49m\u001b[43m(\u001b[49m\u001b[38;5;241;43m3.\u001b[39;49m\u001b[43m)\u001b[49m\n",
      "File \u001b[0;32m/opt/homebrew/Caskroom/miniforge/base/envs/tf25/lib/python3.8/site-packages/tensorflow/python/ops/array_ops.py:1236\u001b[0m, in \u001b[0;36mstrided_slice.<locals>.assign\u001b[0;34m(val, name)\u001b[0m\n\u001b[1;32m   1233\u001b[0m \u001b[38;5;28;01mif\u001b[39;00m name \u001b[38;5;129;01mis\u001b[39;00m \u001b[38;5;28;01mNone\u001b[39;00m:\n\u001b[1;32m   1234\u001b[0m   name \u001b[38;5;241m=\u001b[39m parent_name \u001b[38;5;241m+\u001b[39m \u001b[38;5;124m\"\u001b[39m\u001b[38;5;124m_assign\u001b[39m\u001b[38;5;124m\"\u001b[39m\n\u001b[0;32m-> 1236\u001b[0m \u001b[38;5;28;01mreturn\u001b[39;00m \u001b[43mvar\u001b[49m\u001b[38;5;241;43m.\u001b[39;49m\u001b[43m_strided_slice_assign\u001b[49m\u001b[43m(\u001b[49m\n\u001b[1;32m   1237\u001b[0m \u001b[43m    \u001b[49m\u001b[43mbegin\u001b[49m\u001b[38;5;241;43m=\u001b[39;49m\u001b[43mbegin\u001b[49m\u001b[43m,\u001b[49m\n\u001b[1;32m   1238\u001b[0m \u001b[43m    \u001b[49m\u001b[43mend\u001b[49m\u001b[38;5;241;43m=\u001b[39;49m\u001b[43mend\u001b[49m\u001b[43m,\u001b[49m\n\u001b[1;32m   1239\u001b[0m \u001b[43m    \u001b[49m\u001b[43mstrides\u001b[49m\u001b[38;5;241;43m=\u001b[39;49m\u001b[43mstrides\u001b[49m\u001b[43m,\u001b[49m\n\u001b[1;32m   1240\u001b[0m \u001b[43m    \u001b[49m\u001b[43mvalue\u001b[49m\u001b[38;5;241;43m=\u001b[39;49m\u001b[43mval\u001b[49m\u001b[43m,\u001b[49m\n\u001b[1;32m   1241\u001b[0m \u001b[43m    \u001b[49m\u001b[43mname\u001b[49m\u001b[38;5;241;43m=\u001b[39;49m\u001b[43mname\u001b[49m\u001b[43m,\u001b[49m\n\u001b[1;32m   1242\u001b[0m \u001b[43m    \u001b[49m\u001b[43mbegin_mask\u001b[49m\u001b[38;5;241;43m=\u001b[39;49m\u001b[43mbegin_mask\u001b[49m\u001b[43m,\u001b[49m\n\u001b[1;32m   1243\u001b[0m \u001b[43m    \u001b[49m\u001b[43mend_mask\u001b[49m\u001b[38;5;241;43m=\u001b[39;49m\u001b[43mend_mask\u001b[49m\u001b[43m,\u001b[49m\n\u001b[1;32m   1244\u001b[0m \u001b[43m    \u001b[49m\u001b[43mellipsis_mask\u001b[49m\u001b[38;5;241;43m=\u001b[39;49m\u001b[43mellipsis_mask\u001b[49m\u001b[43m,\u001b[49m\n\u001b[1;32m   1245\u001b[0m \u001b[43m    \u001b[49m\u001b[43mnew_axis_mask\u001b[49m\u001b[38;5;241;43m=\u001b[39;49m\u001b[43mnew_axis_mask\u001b[49m\u001b[43m,\u001b[49m\n\u001b[1;32m   1246\u001b[0m \u001b[43m    \u001b[49m\u001b[43mshrink_axis_mask\u001b[49m\u001b[38;5;241;43m=\u001b[39;49m\u001b[43mshrink_axis_mask\u001b[49m\u001b[43m)\u001b[49m\n",
      "File \u001b[0;32m/opt/homebrew/Caskroom/miniforge/base/envs/tf25/lib/python3.8/site-packages/tensorflow/python/ops/resource_variable_ops.py:1407\u001b[0m, in \u001b[0;36mBaseResourceVariable._strided_slice_assign\u001b[0;34m(self, begin, end, strides, value, name, begin_mask, end_mask, ellipsis_mask, new_axis_mask, shrink_axis_mask)\u001b[0m\n\u001b[1;32m   1402\u001b[0m \u001b[38;5;28;01mdef\u001b[39;00m \u001b[38;5;21m_strided_slice_assign\u001b[39m(\u001b[38;5;28mself\u001b[39m, begin, end, strides, value, name, begin_mask,\n\u001b[1;32m   1403\u001b[0m                           end_mask, ellipsis_mask, new_axis_mask,\n\u001b[1;32m   1404\u001b[0m                           shrink_axis_mask):\n\u001b[1;32m   1405\u001b[0m   \u001b[38;5;28;01mwith\u001b[39;00m _handle_graph(\u001b[38;5;28mself\u001b[39m\u001b[38;5;241m.\u001b[39mhandle), \u001b[38;5;28mself\u001b[39m\u001b[38;5;241m.\u001b[39m_assign_dependencies():\n\u001b[1;32m   1406\u001b[0m     \u001b[38;5;28;01mreturn\u001b[39;00m \u001b[38;5;28mself\u001b[39m\u001b[38;5;241m.\u001b[39m_lazy_read(\n\u001b[0;32m-> 1407\u001b[0m         \u001b[43mgen_array_ops\u001b[49m\u001b[38;5;241;43m.\u001b[39;49m\u001b[43mresource_strided_slice_assign\u001b[49m\u001b[43m(\u001b[49m\n\u001b[1;32m   1408\u001b[0m \u001b[43m            \u001b[49m\u001b[43mref\u001b[49m\u001b[38;5;241;43m=\u001b[39;49m\u001b[38;5;28;43mself\u001b[39;49m\u001b[38;5;241;43m.\u001b[39;49m\u001b[43mhandle\u001b[49m\u001b[43m,\u001b[49m\n\u001b[1;32m   1409\u001b[0m \u001b[43m            \u001b[49m\u001b[43mbegin\u001b[49m\u001b[38;5;241;43m=\u001b[39;49m\u001b[43mbegin\u001b[49m\u001b[43m,\u001b[49m\n\u001b[1;32m   1410\u001b[0m \u001b[43m            \u001b[49m\u001b[43mend\u001b[49m\u001b[38;5;241;43m=\u001b[39;49m\u001b[43mend\u001b[49m\u001b[43m,\u001b[49m\n\u001b[1;32m   1411\u001b[0m \u001b[43m            \u001b[49m\u001b[43mstrides\u001b[49m\u001b[38;5;241;43m=\u001b[39;49m\u001b[43mstrides\u001b[49m\u001b[43m,\u001b[49m\n\u001b[1;32m   1412\u001b[0m \u001b[43m            \u001b[49m\u001b[43mvalue\u001b[49m\u001b[38;5;241;43m=\u001b[39;49m\u001b[43mops\u001b[49m\u001b[38;5;241;43m.\u001b[39;49m\u001b[43mconvert_to_tensor\u001b[49m\u001b[43m(\u001b[49m\u001b[43mvalue\u001b[49m\u001b[43m,\u001b[49m\u001b[43m \u001b[49m\u001b[43mdtype\u001b[49m\u001b[38;5;241;43m=\u001b[39;49m\u001b[38;5;28;43mself\u001b[39;49m\u001b[38;5;241;43m.\u001b[39;49m\u001b[43mdtype\u001b[49m\u001b[43m)\u001b[49m\u001b[43m,\u001b[49m\n\u001b[1;32m   1413\u001b[0m \u001b[43m            \u001b[49m\u001b[43mname\u001b[49m\u001b[38;5;241;43m=\u001b[39;49m\u001b[43mname\u001b[49m\u001b[43m,\u001b[49m\n\u001b[1;32m   1414\u001b[0m \u001b[43m            \u001b[49m\u001b[43mbegin_mask\u001b[49m\u001b[38;5;241;43m=\u001b[39;49m\u001b[43mbegin_mask\u001b[49m\u001b[43m,\u001b[49m\n\u001b[1;32m   1415\u001b[0m \u001b[43m            \u001b[49m\u001b[43mend_mask\u001b[49m\u001b[38;5;241;43m=\u001b[39;49m\u001b[43mend_mask\u001b[49m\u001b[43m,\u001b[49m\n\u001b[1;32m   1416\u001b[0m \u001b[43m            \u001b[49m\u001b[43mellipsis_mask\u001b[49m\u001b[38;5;241;43m=\u001b[39;49m\u001b[43mellipsis_mask\u001b[49m\u001b[43m,\u001b[49m\n\u001b[1;32m   1417\u001b[0m \u001b[43m            \u001b[49m\u001b[43mnew_axis_mask\u001b[49m\u001b[38;5;241;43m=\u001b[39;49m\u001b[43mnew_axis_mask\u001b[49m\u001b[43m,\u001b[49m\n\u001b[1;32m   1418\u001b[0m \u001b[43m            \u001b[49m\u001b[43mshrink_axis_mask\u001b[49m\u001b[38;5;241;43m=\u001b[39;49m\u001b[43mshrink_axis_mask\u001b[49m\u001b[43m)\u001b[49m)\n",
      "File \u001b[0;32m/opt/homebrew/Caskroom/miniforge/base/envs/tf25/lib/python3.8/site-packages/tensorflow/python/ops/gen_array_ops.py:8612\u001b[0m, in \u001b[0;36mresource_strided_slice_assign\u001b[0;34m(ref, begin, end, strides, value, begin_mask, end_mask, ellipsis_mask, new_axis_mask, shrink_axis_mask, name)\u001b[0m\n\u001b[1;32m   8610\u001b[0m   \u001b[38;5;28;01mreturn\u001b[39;00m _result\n\u001b[1;32m   8611\u001b[0m \u001b[38;5;28;01mexcept\u001b[39;00m _core\u001b[38;5;241m.\u001b[39m_NotOkStatusException \u001b[38;5;28;01mas\u001b[39;00m e:\n\u001b[0;32m-> 8612\u001b[0m   \u001b[43m_ops\u001b[49m\u001b[38;5;241;43m.\u001b[39;49m\u001b[43mraise_from_not_ok_status\u001b[49m\u001b[43m(\u001b[49m\u001b[43me\u001b[49m\u001b[43m,\u001b[49m\u001b[43m \u001b[49m\u001b[43mname\u001b[49m\u001b[43m)\u001b[49m\n\u001b[1;32m   8613\u001b[0m \u001b[38;5;28;01mexcept\u001b[39;00m _core\u001b[38;5;241m.\u001b[39m_FallbackException:\n\u001b[1;32m   8614\u001b[0m   \u001b[38;5;28;01mpass\u001b[39;00m\n",
      "File \u001b[0;32m/opt/homebrew/Caskroom/miniforge/base/envs/tf25/lib/python3.8/site-packages/tensorflow/python/framework/ops.py:7107\u001b[0m, in \u001b[0;36mraise_from_not_ok_status\u001b[0;34m(e, name)\u001b[0m\n\u001b[1;32m   7105\u001b[0m \u001b[38;5;28;01mdef\u001b[39;00m \u001b[38;5;21mraise_from_not_ok_status\u001b[39m(e, name):\n\u001b[1;32m   7106\u001b[0m   e\u001b[38;5;241m.\u001b[39mmessage \u001b[38;5;241m+\u001b[39m\u001b[38;5;241m=\u001b[39m (\u001b[38;5;124m\"\u001b[39m\u001b[38;5;124m name: \u001b[39m\u001b[38;5;124m\"\u001b[39m \u001b[38;5;241m+\u001b[39m name \u001b[38;5;28;01mif\u001b[39;00m name \u001b[38;5;129;01mis\u001b[39;00m \u001b[38;5;129;01mnot\u001b[39;00m \u001b[38;5;28;01mNone\u001b[39;00m \u001b[38;5;28;01melse\u001b[39;00m \u001b[38;5;124m\"\u001b[39m\u001b[38;5;124m\"\u001b[39m)\n\u001b[0;32m-> 7107\u001b[0m   \u001b[38;5;28;01mraise\u001b[39;00m core\u001b[38;5;241m.\u001b[39m_status_to_exception(e) \u001b[38;5;28;01mfrom\u001b[39;00m \u001b[38;5;28mNone\u001b[39m\n",
      "\u001b[0;31mNotFoundError\u001b[0m: No registered 'ResourceStridedSliceAssign' OpKernel for 'GPU' devices compatible with node {{node ResourceStridedSliceAssign}}\n\t (OpKernel was found, but attributes didn't match) Requested Attributes: Index=DT_INT32, T=DT_FLOAT, begin_mask=0, ellipsis_mask=0, end_mask=0, new_axis_mask=0, shrink_axis_mask=3\n\t.  Registered:  device='DEFAULT'; T in [DT_INT32]\n  device='CPU'; T in [DT_UINT64]\n  device='CPU'; T in [DT_INT64]\n  device='CPU'; T in [DT_UINT32]\n  device='CPU'; T in [DT_UINT16]\n  device='CPU'; T in [DT_INT16]\n  device='CPU'; T in [DT_UINT8]\n  device='CPU'; T in [DT_INT8]\n  device='CPU'; T in [DT_INT32]\n  device='CPU'; T in [DT_HALF]\n  device='CPU'; T in [DT_BFLOAT16]\n  device='CPU'; T in [DT_FLOAT]\n  device='CPU'; T in [DT_DOUBLE]\n  device='CPU'; T in [DT_COMPLEX64]\n  device='CPU'; T in [DT_COMPLEX128]\n  device='CPU'; T in [DT_BOOL]\n  device='CPU'; T in [DT_STRING]\n  device='CPU'; T in [DT_RESOURCE]\n  device='CPU'; T in [DT_VARIANT]\n [Op:ResourceStridedSliceAssign] name: strided_slice/_assign"
     ]
    }
   ],
   "source": [
    "v[0, 0].assign(3.)"
   ]
  },
  {
   "cell_type": "code",
   "execution_count": 8,
   "id": "b27b3644",
   "metadata": {
    "ExecuteTime": {
     "end_time": "2022-11-29T05:21:05.305599Z",
     "start_time": "2022-11-29T05:21:05.295354Z"
    }
   },
   "outputs": [
    {
     "data": {
      "text/plain": [
       "<tf.Variable 'UnreadVariable' shape=(3, 1) dtype=float32, numpy=\n",
       "array([[2.],\n",
       "       [2.],\n",
       "       [2.]], dtype=float32)>"
      ]
     },
     "execution_count": 8,
     "metadata": {},
     "output_type": "execute_result"
    }
   ],
   "source": [
    "v.assign_add(tf.ones((3,1)))"
   ]
  },
  {
   "cell_type": "code",
   "execution_count": 7,
   "id": "b2db9173",
   "metadata": {
    "ExecuteTime": {
     "end_time": "2022-11-29T05:21:03.136600Z",
     "start_time": "2022-11-29T05:21:03.125824Z"
    }
   },
   "outputs": [],
   "source": [
    "a = tf.ones((2,2))"
   ]
  },
  {
   "cell_type": "code",
   "execution_count": 9,
   "id": "be083453",
   "metadata": {
    "ExecuteTime": {
     "end_time": "2022-11-29T05:21:08.447172Z",
     "start_time": "2022-11-29T05:21:08.428880Z"
    }
   },
   "outputs": [],
   "source": [
    "input_var = tf.Variable(initial_value=3.)\n",
    "with tf.GradientTape() as tape:\n",
    "    result = tf.square(input_var)\n",
    "gradient = tape.gradient(result, input_var)"
   ]
  },
  {
   "cell_type": "code",
   "execution_count": 10,
   "id": "b00e9247",
   "metadata": {
    "ExecuteTime": {
     "end_time": "2022-11-29T05:21:09.556637Z",
     "start_time": "2022-11-29T05:21:09.551212Z"
    }
   },
   "outputs": [],
   "source": [
    "input_const = tf.constant(3.)\n",
    "with tf.GradientTape() as tape:\n",
    "    tape.watch(input_const)\n",
    "    result = tf.square(input_const)\n",
    "gradient = tape.gradient(result, input_const)"
   ]
  },
  {
   "cell_type": "code",
   "execution_count": 52,
   "id": "21d41e18",
   "metadata": {
    "ExecuteTime": {
     "end_time": "2022-11-29T07:42:16.004970Z",
     "start_time": "2022-11-29T07:42:15.993644Z"
    }
   },
   "outputs": [
    {
     "data": {
      "text/plain": [
       "(1000, 2)"
      ]
     },
     "execution_count": 52,
     "metadata": {},
     "output_type": "execute_result"
    }
   ],
   "source": [
    "# 선형 분류기 만들기\n",
    "import numpy as np\n",
    "\n",
    "num_samples_per_class = 1000\n",
    "negative_samples = np.random.multivariate_normal(mean=[0, 3],\n",
    "                                                cov=[[1,0.5],[0.5,1]],\n",
    "                                                size=num_samples_per_class)\n",
    "positive_samples = np.random.multivariate_normal(mean=[3,0],\n",
    "                                                cov=[[1,0.5],[0.5,1]],\n",
    "                                                size=num_samples_per_class)\n",
    "# negative_samples와 positive_samples는 모두 (1000, 2) 크기의 배열이며 이를 이제 수직으로 연결한다\n",
    "\n",
    "negative_samples.shape"
   ]
  },
  {
   "cell_type": "code",
   "execution_count": 53,
   "id": "f828997d",
   "metadata": {
    "ExecuteTime": {
     "end_time": "2022-11-29T07:42:31.947357Z",
     "start_time": "2022-11-29T07:42:31.942850Z"
    }
   },
   "outputs": [
    {
     "data": {
      "text/plain": [
       "array([[ 0.04777755,  3.06807489],\n",
       "       [-0.75491003,  3.06236268],\n",
       "       [-1.31247431,  2.85480512],\n",
       "       ...,\n",
       "       [ 0.88819729,  1.63114076],\n",
       "       [-0.00553675,  3.63462459],\n",
       "       [-0.05624921,  3.14647203]])"
      ]
     },
     "execution_count": 53,
     "metadata": {},
     "output_type": "execute_result"
    }
   ],
   "source": [
    "negative_samples"
   ]
  },
  {
   "cell_type": "code",
   "execution_count": 55,
   "id": "37d1a5c8",
   "metadata": {
    "ExecuteTime": {
     "end_time": "2022-11-29T07:44:05.330635Z",
     "start_time": "2022-11-29T07:44:05.326575Z"
    }
   },
   "outputs": [
    {
     "data": {
      "text/plain": [
       "(1000,)"
      ]
     },
     "execution_count": 55,
     "metadata": {},
     "output_type": "execute_result"
    }
   ],
   "source": [
    "negative_samples[:, 0]"
   ]
  },
  {
   "cell_type": "code",
   "execution_count": 51,
   "id": "be358440",
   "metadata": {
    "ExecuteTime": {
     "end_time": "2022-11-29T07:29:18.323560Z",
     "start_time": "2022-11-29T07:29:18.320961Z"
    }
   },
   "outputs": [
    {
     "data": {
      "text/plain": [
       "(2000, 2)"
      ]
     },
     "execution_count": 51,
     "metadata": {},
     "output_type": "execute_result"
    }
   ],
   "source": [
    "inputs = np.vstack((negative_samples, positive_samples)).astype(np.float32)\n",
    "inputs.shape"
   ]
  },
  {
   "cell_type": "code",
   "execution_count": 13,
   "id": "e92da1ce",
   "metadata": {
    "ExecuteTime": {
     "end_time": "2022-11-29T05:21:13.167828Z",
     "start_time": "2022-11-29T05:21:13.164599Z"
    }
   },
   "outputs": [],
   "source": [
    "targets = np.vstack((np.zeros((num_samples_per_class, 1), dtype='float32'),\n",
    "                    np.ones((num_samples_per_class, 1), dtype='float32')))"
   ]
  },
  {
   "cell_type": "code",
   "execution_count": 14,
   "id": "29fad756",
   "metadata": {
    "ExecuteTime": {
     "end_time": "2022-11-29T05:21:14.728011Z",
     "start_time": "2022-11-29T05:21:14.299994Z"
    }
   },
   "outputs": [
    {
     "data": {
      "image/png": "[encoded data removed]",
      "text/plain": [
       "<Figure size 432x288 with 1 Axes>"
      ]
     },
     "metadata": {
      "needs_background": "light"
     },
     "output_type": "display_data"
    }
   ],
   "source": [
    "import matplotlib.pyplot as plt\n",
    "\n",
    "plt.scatter(inputs[:, 0], inputs[:, 1], c=targets[:,0]) # 순서대로 x축, y축, z축\n",
    "plt.show()\n",
    "#이 두 포인트 클라우드를 구분할 수 있는 선형분류기는 아핀변환 prediction = W * input + b 이다."
   ]
  },
  {
   "cell_type": "code",
   "execution_count": 15,
   "id": "8a11d9b5",
   "metadata": {
    "ExecuteTime": {
     "end_time": "2022-11-29T05:21:15.779033Z",
     "start_time": "2022-11-29T05:21:15.761752Z"
    }
   },
   "outputs": [],
   "source": [
    "input_dim = 2 #가중치 dim이 2인 이유는 x,y값이기 때문이다.\n",
    "output_dim = 1 #output_dim이 1인 이유는 z값 하나이기 때문이다.\n",
    "W = tf.Variable(initial_value = tf.random.uniform(shape=(input_dim, output_dim)))\n",
    "b = tf.Variable(initial_value = tf.zeros(shape=(output_dim,)))\n",
    "\n",
    "# W, b는 업데이트 가능해야하므로 "
   ]
  },
  {
   "cell_type": "code",
   "execution_count": 16,
   "id": "ba318722",
   "metadata": {
    "ExecuteTime": {
     "end_time": "2022-11-29T05:21:20.418330Z",
     "start_time": "2022-11-29T05:21:20.415160Z"
    }
   },
   "outputs": [],
   "source": [
    "def model(inputs):\n",
    "    return tf.matmul(inputs, W) + b\n",
    "# 이 선형 분류기는 2D 입력을 다루기 때문에 W는 2개의 스칼라 가중치 w1, w2로 이루어진다 (W = [[w1], [w2]]) 반면 b는 하나의 스칼라 값이다.\n",
    "# 즉 예측값 prediction = [[w1],[w2]] * [x, y] + b = w1 * x + x2 * y + b가 된다."
   ]
  },
  {
   "cell_type": "code",
   "execution_count": 17,
   "id": "0759612c",
   "metadata": {
    "ExecuteTime": {
     "end_time": "2022-11-29T05:21:21.662394Z",
     "start_time": "2022-11-29T05:21:21.658630Z"
    }
   },
   "outputs": [],
   "source": [
    "def square_loss(targets, predictions):\n",
    "    per_sample_losses = tf.square(targets - predictions)\n",
    "    return tf.reduce_mean(per_sample_losses)\n",
    "# per_sample_losses는 targets나 predictions와 크기가 같은 텐서이며 각 샘플의 손실 값을 담고 있다."
   ]
  },
  {
   "cell_type": "code",
   "execution_count": 18,
   "id": "a9e9997f",
   "metadata": {
    "ExecuteTime": {
     "end_time": "2022-11-29T05:21:22.600541Z",
     "start_time": "2022-11-29T05:21:22.595933Z"
    }
   },
   "outputs": [],
   "source": [
    "learning_rate = 0.1\n",
    "\n",
    "def training_step(inputs, targets):\n",
    "    with tf.GradientTape() as tape:\n",
    "        predictions = model(inputs)\n",
    "        loss = square_loss(targets, predictions)\n",
    "    grad_loss_wrt_W, grad_loss_wrt_b = tape.gradient(loss, [W, b])\n",
    "    W.assign_sub(grad_loss_wrt_W * learning_rate)\n",
    "    b.assign_sub(grad_loss_wrt_b * learning_rate)\n",
    "    return loss"
   ]
  },
  {
   "cell_type": "code",
   "execution_count": 19,
   "id": "ee855ff7",
   "metadata": {
    "ExecuteTime": {
     "end_time": "2022-11-29T05:21:24.082413Z",
     "start_time": "2022-11-29T05:21:23.875090Z"
    }
   },
   "outputs": [
    {
     "name": "stdout",
     "output_type": "stream",
     "text": [
      "0번째 스텝의 손실: 4.46760892868042\n",
      "1번째 스텝의 손실: 0.6006283164024353\n",
      "2번째 스텝의 손실: 0.20384110510349274\n",
      "3번째 스텝의 손실: 0.13714423775672913\n",
      "4번째 스텝의 손실: 0.11980156600475311\n",
      "5번째 스텝의 손실: 0.11040545254945755\n",
      "6번째 스텝의 손실: 0.10278595238924026\n",
      "7번째 스텝의 손실: 0.09597908705472946\n",
      "8번째 스텝의 손실: 0.08979398012161255\n",
      "9번째 스텝의 손실: 0.08415812999010086\n",
      "10번째 스텝의 손실: 0.0790204405784607\n",
      "11번째 스텝의 손실: 0.07433653622865677\n",
      "12번째 스텝의 손실: 0.07006628811359406\n",
      "13번째 스텝의 손실: 0.06617315858602524\n",
      "14번째 스텝의 손실: 0.06262384355068207\n",
      "15번째 스텝의 손실: 0.05938795953989029\n",
      "16번째 스텝의 손실: 0.05643785372376442\n",
      "17번째 스텝의 손실: 0.053748276084661484\n",
      "18번째 스텝의 손실: 0.05129622295498848\n",
      "19번째 스텝의 손실: 0.04906070604920387\n",
      "20번째 스텝의 손실: 0.04702261462807655\n",
      "21번째 스텝의 손실: 0.04516451433300972\n",
      "22번째 스텝의 손실: 0.04347050189971924\n",
      "23번째 스텝의 손실: 0.04192609712481499\n",
      "24번째 스텝의 손실: 0.04051807522773743\n",
      "25번째 스텝의 손실: 0.03923439979553223\n",
      "26번째 스텝의 손실: 0.03806408867239952\n",
      "27번째 스텝의 손실: 0.03699713200330734\n",
      "28번째 스텝의 손실: 0.03602439910173416\n",
      "29번째 스텝의 손실: 0.03513757511973381\n",
      "30번째 스텝의 손실: 0.03432905673980713\n",
      "31번째 스텝의 손실: 0.03359195217490196\n",
      "32번째 스텝의 손실: 0.03291993588209152\n",
      "33번째 스텝의 손실: 0.03230726346373558\n",
      "34번째 스텝의 손실: 0.0317487008869648\n",
      "35번째 스텝의 손실: 0.031239468604326248\n",
      "36번째 스텝의 손실: 0.03077520616352558\n",
      "37번째 스텝의 손실: 0.030351944267749786\n",
      "38번째 스텝의 손실: 0.02996606007218361\n",
      "39번째 스텝의 손실: 0.029614252969622612\n"
     ]
    }
   ],
   "source": [
    "for step in range(40):\n",
    "    loss = training_step(inputs, targets)\n",
    "    print(\"{}번째 스텝의 손실: {}\".format(step, loss))"
   ]
  },
  {
   "cell_type": "code",
   "execution_count": 20,
   "id": "4d65c153",
   "metadata": {
    "ExecuteTime": {
     "end_time": "2022-11-29T05:21:27.364730Z",
     "start_time": "2022-11-29T05:21:27.359130Z"
    }
   },
   "outputs": [],
   "source": [
    "predictions = model(inputs)"
   ]
  },
  {
   "cell_type": "code",
   "execution_count": 57,
   "id": "44cd6a73",
   "metadata": {
    "ExecuteTime": {
     "end_time": "2022-11-29T10:18:14.510407Z",
     "start_time": "2022-11-29T10:18:14.411875Z"
    }
   },
   "outputs": [
    {
     "data": {
      "image/png": "[encoded data removed]",
      "text/plain": [
       "<Figure size 432x288 with 1 Axes>"
      ]
     },
     "metadata": {
      "needs_background": "light"
     },
     "output_type": "display_data"
    }
   ],
   "source": [
    "x = np.linspace(-1, 4, 100)\n",
    "y = -W[0] / W[1] * x + (0.5 - b) / W[1]\n",
    "\n",
    "plt.plot(x, y, '-r')\n",
    "plt.scatter(inputs[:, 0], inputs[:, 1], c=predictions[:, 0]>0.5)\n",
    "plt.show()"
   ]
  },
  {
   "cell_type": "code",
   "execution_count": null,
   "id": "967263e6",
   "metadata": {},
   "outputs": [],
   "source": [
    "# 선형 분류기 정리\n",
    "\n",
    "# 데이터의 형식은 다음과 같다.\n",
    "# 인풋데이터는 2차원 텐서이며 (개수, 2) 2 : x,y값으로 이루어짐\n",
    "# 타겟데이터는 0아니면 1로 구성된 1차원 텐서이다.\n",
    "\n",
    "# 즉 수식으로는 W1*x + W2*y + b로 구성된 데이터(2차원)가 0아니면 1의 값을 가지는 상황이다.\n",
    "# 하나의 층만 사용하고 배치는 없다. learning_rate는 비교적 크게 설정해야한다.\n",
    "\n",
    "# W, b를 tf.Variable로 정의한다. W는 두개이며 하나의 값을 가지므로 shape=(2,1)이다. b는 하나의 값으로 (1,)이다. \n",
    "# def model을 통해 정방향패스 계산을 도출한다.\n",
    "# def square_loss를 통해 손실함수 계산을 도출한다.\n",
    "# def training_step을 통해 역전파로 하여금 가중치w1,w2,b를 수정한다.\n",
    "\n",
    "# training_step에서는 인풋값과 타깃값을 받는다.\n",
    "# gradient기록을 실행하고\n",
    "# 구문안에서 predict값을 model함수로 뽑아내고, loss(타겟값, 프리딕트값)을 계산하는 코드를 넣는다.\n",
    "# tape메소드를 통해 w에 대한 loss미분값(두개니까 벡터겠죠?)과 b에 대한 loss미분값을 받는다.\n",
    "# learning_late * 미분값을 원래 W,b에 대해 뺀다.(assign_sub)\n",
    "# 앞서 계산된 loss(타겟값, 프리딕트값)을 return으로 준다.\n",
    "\n",
    "# training_step을 반복하여 W, b를 계속 업데이트 한다.\n",
    "\n",
    "\n"
   ]
  },
  {
   "cell_type": "code",
   "execution_count": 48,
   "id": "505172ce",
   "metadata": {
    "ExecuteTime": {
     "end_time": "2022-11-29T06:46:36.515034Z",
     "start_time": "2022-11-29T06:46:36.507286Z"
    }
   },
   "outputs": [],
   "source": [
    "from tensorflow import keras\n",
    "class SimpleDense(keras.layers.Layer): # 모든 케라스 층은 Layer클래스를 상속\n",
    "    def __init__(self, units, activation=None):\n",
    "        super().__init__()\n",
    "        self.units = units\n",
    "        self.activation = activation\n",
    "    def build(self, input_shape): # 가중치 생성하는 메소드\n",
    "        print('build 메소드가 호출됨')\n",
    "        input_dim = input_shape[-1] # (784개의 1데이터 들어갈 것)\n",
    "        self.W = self.add_weight(shape=(input_dim, self.units), initializer='random_normal') #(784, 32)의 가중치 생성\n",
    "        # add_weight는 가중치를 간편하게 만드는 메서드\n",
    "        self.b = self.add_weight(shape=(self.units,), initializer='zeros') # (32, )의 b생성\n",
    "    def call(self, inputs):\n",
    "        print('call 메소드가 호출됨')\n",
    "        y = tf.matmul(inputs, self.W) + self.b\n",
    "        if self.activation is not None:\n",
    "            y = self.activation(y)\n",
    "        # 내적 계산은 다음과 같다.\n",
    "        # activation((2, 784) * (784, 32) + (32, )) *** 정방향 패스 리턴되는 값의 shape는 (2, 32)로 나타난다.\n",
    "        return y\n",
    "    \n",
    "# 상속된 Layer클래스에는 __call__()메서드가 존재한다.\n",
    "# def __call__(self, inputs):\n",
    "#     if not self.built:\n",
    "#         self.build(inputs.shape)\n",
    "#         self.built = True\n",
    "#     return self.call(inputs)\n",
    "# 다음의 메소드를 보면 아래의 셀에서 my_dense로 처음 dense객체를 정의한다. 그리고 my_dense(input_tensor)코드를 실행한다.\n",
    "# 이것은 __call__()을 실행하는 것으로 상속된 Layer의 메소드인 __call__(input_tensor)이 실행된다.\n",
    "# 만약 built가 false라면 self.build, 즉 우리가 SimpleDense에서 정의한 build를 실행한다.\n",
    "# build에서는 자동적으로 입력텐서에 알맞게 가중치텐서를 만들어낸다. 여기서 처음 규정한 units가 사용된다. units는 출력shape에 관련된 것이다.\n",
    "# build가 실행되면 가중치 텐서들이 규정된다. 그리고 끝으로 call메소드를 실행시킨다.\n",
    "# call 메소드는 정방향 패스를 계산하며 활성화함수(y_pred)를 리턴값으로 뱉는다.\n",
    "\n",
    "# 즉 my_dense = SimpleDense(~) -> my_dense(input_tensor)를 넣으면 units에 맞는 shape로의 출력값을 뱉는다.\n",
    "\n",
    "# 이것이 하나의 층이며, 이러한 층은 여러개 겹칠 수 있고, 모델은 이러한 층을 통과하며 최종 y_pred값을 뱉는다.\n",
    "# y_pred값은 target값에 의해 손실함수가 계산되고 이는 Gradient tape를 통해 이전의 층으로 이전의 층으로 가중치들을 업데이트 한다.(learning_late포함)\n",
    "# 배치사이즈가 존재하여 배치로 나누어져있다면 하나의 배치에 대해 위의 과정을 진행한다. 그리고나면 가중치가 업데이트되며 loss가 개선되는 과정을 걸친다.\n",
    "# epochs에 의해 업데이트된 가중치들을 기반으로 다시 위와같은 과정을 반복한다."
   ]
  },
  {
   "cell_type": "code",
   "execution_count": 49,
   "id": "39310a7f",
   "metadata": {
    "ExecuteTime": {
     "end_time": "2022-11-29T06:46:38.420757Z",
     "start_time": "2022-11-29T06:46:38.393530Z"
    }
   },
   "outputs": [
    {
     "name": "stdout",
     "output_type": "stream",
     "text": [
      "tf.Tensor(\n",
      "[1. 1. 1. 1. 1. 1. 1. 1. 1. 1. 1. 1. 1. 1. 1. 1. 1. 1. 1. 1. 1. 1. 1. 1.\n",
      " 1. 1. 1. 1. 1. 1. 1. 1. 1. 1. 1. 1. 1. 1. 1. 1. 1. 1. 1. 1. 1. 1. 1. 1.\n",
      " 1. 1. 1. 1. 1. 1. 1. 1. 1. 1. 1. 1. 1. 1. 1. 1. 1. 1. 1. 1. 1. 1. 1. 1.\n",
      " 1. 1. 1. 1. 1. 1. 1. 1. 1. 1. 1. 1. 1. 1. 1. 1. 1. 1. 1. 1. 1. 1. 1. 1.\n",
      " 1. 1. 1. 1. 1. 1. 1. 1. 1. 1. 1. 1. 1. 1. 1. 1. 1. 1. 1. 1. 1. 1. 1. 1.\n",
      " 1. 1. 1. 1. 1. 1. 1. 1. 1. 1. 1. 1. 1. 1. 1. 1. 1. 1. 1. 1. 1. 1. 1. 1.\n",
      " 1. 1. 1. 1. 1. 1. 1. 1. 1. 1. 1. 1. 1. 1. 1. 1. 1. 1. 1. 1. 1. 1. 1. 1.\n",
      " 1. 1. 1. 1. 1. 1. 1. 1. 1. 1. 1. 1. 1. 1. 1. 1. 1. 1. 1. 1. 1. 1. 1. 1.\n",
      " 1. 1. 1. 1. 1. 1. 1. 1. 1. 1. 1. 1. 1. 1. 1. 1. 1. 1. 1. 1. 1. 1. 1. 1.\n",
      " 1. 1. 1. 1. 1. 1. 1. 1. 1. 1. 1. 1. 1. 1. 1. 1. 1. 1. 1. 1. 1. 1. 1. 1.\n",
      " 1. 1. 1. 1. 1. 1. 1. 1. 1. 1. 1. 1. 1. 1. 1. 1. 1. 1. 1. 1. 1. 1. 1. 1.\n",
      " 1. 1. 1. 1. 1. 1. 1. 1. 1. 1. 1. 1. 1. 1. 1. 1. 1. 1. 1. 1. 1. 1. 1. 1.\n",
      " 1. 1. 1. 1. 1. 1. 1. 1. 1. 1. 1. 1. 1. 1. 1. 1. 1. 1. 1. 1. 1. 1. 1. 1.\n",
      " 1. 1. 1. 1. 1. 1. 1. 1. 1. 1. 1. 1. 1. 1. 1. 1. 1. 1. 1. 1. 1. 1. 1. 1.\n",
      " 1. 1. 1. 1. 1. 1. 1. 1. 1. 1. 1. 1. 1. 1. 1. 1. 1. 1. 1. 1. 1. 1. 1. 1.\n",
      " 1. 1. 1. 1. 1. 1. 1. 1. 1. 1. 1. 1. 1. 1. 1. 1. 1. 1. 1. 1. 1. 1. 1. 1.\n",
      " 1. 1. 1. 1. 1. 1. 1. 1. 1. 1. 1. 1. 1. 1. 1. 1. 1. 1. 1. 1. 1. 1. 1. 1.\n",
      " 1. 1. 1. 1. 1. 1. 1. 1. 1. 1. 1. 1. 1. 1. 1. 1. 1. 1. 1. 1. 1. 1. 1. 1.\n",
      " 1. 1. 1. 1. 1. 1. 1. 1. 1. 1. 1. 1. 1. 1. 1. 1. 1. 1. 1. 1. 1. 1. 1. 1.\n",
      " 1. 1. 1. 1. 1. 1. 1. 1. 1. 1. 1. 1. 1. 1. 1. 1. 1. 1. 1. 1. 1. 1. 1. 1.\n",
      " 1. 1. 1. 1. 1. 1. 1. 1. 1. 1. 1. 1. 1. 1. 1. 1. 1. 1. 1. 1. 1. 1. 1. 1.\n",
      " 1. 1. 1. 1. 1. 1. 1. 1. 1. 1. 1. 1. 1. 1. 1. 1. 1. 1. 1. 1. 1. 1. 1. 1.\n",
      " 1. 1. 1. 1. 1. 1. 1. 1. 1. 1. 1. 1. 1. 1. 1. 1. 1. 1. 1. 1. 1. 1. 1. 1.\n",
      " 1. 1. 1. 1. 1. 1. 1. 1. 1. 1. 1. 1. 1. 1. 1. 1. 1. 1. 1. 1. 1. 1. 1. 1.\n",
      " 1. 1. 1. 1. 1. 1. 1. 1. 1. 1. 1. 1. 1. 1. 1. 1. 1. 1. 1. 1. 1. 1. 1. 1.\n",
      " 1. 1. 1. 1. 1. 1. 1. 1. 1. 1. 1. 1. 1. 1. 1. 1. 1. 1. 1. 1. 1. 1. 1. 1.\n",
      " 1. 1. 1. 1. 1. 1. 1. 1. 1. 1. 1. 1. 1. 1. 1. 1. 1. 1. 1. 1. 1. 1. 1. 1.\n",
      " 1. 1. 1. 1. 1. 1. 1. 1. 1. 1. 1. 1. 1. 1. 1. 1. 1. 1. 1. 1. 1. 1. 1. 1.\n",
      " 1. 1. 1. 1. 1. 1. 1. 1. 1. 1. 1. 1. 1. 1. 1. 1. 1. 1. 1. 1. 1. 1. 1. 1.\n",
      " 1. 1. 1. 1. 1. 1. 1. 1. 1. 1. 1. 1. 1. 1. 1. 1. 1. 1. 1. 1. 1. 1. 1. 1.\n",
      " 1. 1. 1. 1. 1. 1. 1. 1. 1. 1. 1. 1. 1. 1. 1. 1. 1. 1. 1. 1. 1. 1. 1. 1.\n",
      " 1. 1. 1. 1. 1. 1. 1. 1. 1. 1. 1. 1. 1. 1. 1. 1. 1. 1. 1. 1. 1. 1. 1. 1.\n",
      " 1. 1. 1. 1. 1. 1. 1. 1. 1. 1. 1. 1. 1. 1. 1. 1.], shape=(784,), dtype=float32)\n",
      "build 메소드가 호출됨\n",
      "call 메소드가 호출됨\n",
      "(2, 32)\n"
     ]
    }
   ],
   "source": [
    "my_dense = SimpleDense(units=32, activation=tf.nn.relu)\n",
    "input_tensor = tf.ones(shape=(2, 784))\n",
    "print(input_tensor[-1])\n",
    "output_tensor = my_dense(input_tensor)\n",
    "print(output_tensor.shape)"
   ]
  },
  {
   "cell_type": "code",
   "execution_count": 59,
   "id": "2331b13e",
   "metadata": {
    "ExecuteTime": {
     "end_time": "2022-11-29T10:24:19.003175Z",
     "start_time": "2022-11-29T10:24:18.996417Z"
    }
   },
   "outputs": [
    {
     "name": "stdout",
     "output_type": "stream",
     "text": [
      "__call__실행됨\n"
     ]
    },
    {
     "data": {
      "text/plain": [
       "3"
      ]
     },
     "execution_count": 59,
     "metadata": {},
     "output_type": "execute_result"
    }
   ],
   "source": [
    "class SimpleDense_test:\n",
    "    def __init__(self, a, b):\n",
    "        self.a = a\n",
    "        self.b = b\n",
    "    def __call__(self, a, b):\n",
    "        tmp = self.a + self.b\n",
    "        print('__call__실행됨')\n",
    "        return tmp\n",
    "\n",
    "test = SimpleDense_test(1,2)\n",
    "test(1,2)"
   ]
  },
  {
   "cell_type": "code",
   "execution_count": 37,
   "id": "5690900f",
   "metadata": {
    "ExecuteTime": {
     "end_time": "2022-11-29T05:59:44.339686Z",
     "start_time": "2022-11-29T05:59:44.336836Z"
    }
   },
   "outputs": [],
   "source": [
    "# Layer 클래스의 __call__() 메서드가 자동 크기 추론뿐만 아니라 그래프실행사이를 전환하고 입력마스킹을 처리하는 등 더 많은 작업을 관리한다."
   ]
  },
  {
   "cell_type": "markdown",
   "id": "62990332",
   "metadata": {},
   "source": [
    "# compile step"
   ]
  },
  {
   "cell_type": "code",
   "execution_count": null,
   "id": "d20e22fe",
   "metadata": {},
   "outputs": [],
   "source": [
    "# 모델 구조 정의후 세가지를 더 선택해야한다.\n",
    "# 손실함수 선택\n",
    "# 옵티마이저 선택\n",
    "# 측정 지표"
   ]
  }
 ],
 "metadata": {
  "kernelspec": {
   "display_name": "tf25",
   "language": "python",
   "name": "tf25"
  },
  "language_info": {
   "codemirror_mode": {
    "name": "ipython",
    "version": 3
   },
   "file_extension": ".py",
   "mimetype": "text/x-python",
   "name": "python",
   "nbconvert_exporter": "python",
   "pygments_lexer": "ipython3",
   "version": "3.8.12"
  }
 },
 "nbformat": 4,
 "nbformat_minor": 5
}
